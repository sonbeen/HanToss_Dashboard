{
 "cells": [
  {
   "cell_type": "markdown",
   "id": "8c5c25df-144c-4c08-b166-e9b6ddac362f",
   "metadata": {},
   "source": [
    "## DB 연동\n",
    "- DB 연동하는 것은 에러가 없어야 함\n",
    "- 해당 코드는 무조건 돌아가게끔 만들어야 함\n",
    "- MySQL에 문제가 생겼을 때 -> 대처: try-catch 구문"
   ]
  },
  {
   "cell_type": "code",
   "execution_count": 3,
   "id": "27051e08-dab7-4942-95f1-b54b4ed29979",
   "metadata": {},
   "outputs": [
    {
     "name": "stdout",
     "output_type": "stream",
     "text": [
      "Error:0으로 나눌 수 없음\n",
      "결과 확인\n"
     ]
    }
   ],
   "source": [
    "try:\n",
    "    numerator = 10\n",
    "    denominator = 0\n",
    "    result = numerator / denominator\n",
    "except ZeroDivisionError:\n",
    "    print(\"Error:0으로 나눌 수 없음\")\n",
    "else:\n",
    "    print(\"결과 확인: \", result)\n",
    "finally:\n",
    "    print(\"결과 확인\")"
   ]
  },
  {
   "cell_type": "code",
   "execution_count": 4,
   "id": "36ca227b-f092-4f46-9140-411acc52988f",
   "metadata": {},
   "outputs": [
    {
     "name": "stdin",
     "output_type": "stream",
     "text": [
      "숫자를 입력하세용. 5\n"
     ]
    },
    {
     "name": "stdout",
     "output_type": "stream",
     "text": [
      "결과 확인:  2.0\n",
      "결과 확인\n"
     ]
    }
   ],
   "source": [
    "try:\n",
    "    numerator = 10\n",
    "    denominator = int(input(\"숫자를 입력하세용.\"))\n",
    "    result = numerator / denominator\n",
    "except ZeroDivisionError:\n",
    "    print(\"Error:0으로 나눌 수 없음\")\n",
    "except ValueError:\n",
    "    print(\"invalid literal for int() with\")\n",
    "else:\n",
    "    print(\"결과 확인: \", result)\n",
    "finally:\n",
    "    print(\"결과 확인\")"
   ]
  },
  {
   "cell_type": "markdown",
   "id": "548b2d00-8cd9-4caf-92ce-732a4c8039e0",
   "metadata": {},
   "source": [
    "## Connect to Server"
   ]
  },
  {
   "cell_type": "code",
   "execution_count": 5,
   "id": "a5d2bfa4-c6e3-4fef-8c0a-839cd3e0fb1d",
   "metadata": {},
   "outputs": [],
   "source": [
    "import os\n",
    "from mysql import connector"
   ]
  },
  {
   "cell_type": "code",
   "execution_count": 6,
   "id": "ef18763b-d8c1-4b04-b632-8a8494b38bf5",
   "metadata": {},
   "outputs": [],
   "source": [
    "PASSWORD = '1234'"
   ]
  },
  {
   "cell_type": "markdown",
   "id": "7f9c79e2-2d6c-43a7-9d9f-b6c211f25db3",
   "metadata": {},
   "source": [
    "- 기초문법 중급 레벨: with vs. Python decorator"
   ]
  },
  {
   "cell_type": "code",
   "execution_count": 7,
   "id": "24a631aa-3e0f-485b-8571-a6b1923b8e5b",
   "metadata": {},
   "outputs": [
    {
     "name": "stdout",
     "output_type": "stream",
     "text": [
      "Database 객체 : <mysql.connector.connection_cext.CMySQLConnection object at 0x00000235DDE0BC90>\n"
     ]
    }
   ],
   "source": [
    "try:\n",
    "    with connector.connect(\n",
    "        host = 'localhost',\n",
    "        user = 'root',\n",
    "        password = PASSWORD\n",
    "    ) as database:\n",
    "        print(f\"Database 객체 : {database}\")\n",
    "except connector.Error as e:\n",
    "    print(e)"
   ]
  },
  {
   "cell_type": "markdown",
   "id": "e7f1966f-9968-49a8-92e7-e2fa30796236",
   "metadata": {},
   "source": [
    "## Step2. Creating New DB"
   ]
  },
  {
   "cell_type": "code",
   "execution_count": 9,
   "id": "d02a6920-77b2-40ac-a587-744e67a5b075",
   "metadata": {},
   "outputs": [
    {
     "name": "stdout",
     "output_type": "stream",
     "text": [
      "Database 객체 : <mysql.connector.connection_cext.CMySQLConnection object at 0x00000235DEB03A10>\n",
      "1007 (HY000): Can't create database 'book_rating'; database exists\n"
     ]
    }
   ],
   "source": [
    "try:\n",
    "    with connector.connect(\n",
    "        host = 'localhost',\n",
    "        user = 'root',\n",
    "        password = PASSWORD\n",
    "    ) as database:\n",
    "        print(f\"Database 객체 : {database}\")\n",
    "        \n",
    "        # 쿼리문 작성\n",
    "        create_db = \"CREATE DATABASE book_rating;\"\n",
    "        with database.cursor() as cursor:\n",
    "            cursor.execute(create_db)\n",
    "\n",
    "            # 생성된 DB 확인 쿼리문 쓰기\n",
    "            show_existing_db = \"SHOW DATABASES;\"\n",
    "            cursor.execute(show_existing_db)\n",
    "            for db in cursor:\n",
    "                print(db)\n",
    "\n",
    "except connector.Error as e:\n",
    "    print(e)"
   ]
  },
  {
   "cell_type": "markdown",
   "id": "c0b33fcc-5891-49d3-b7de-557b0a906c50",
   "metadata": {},
   "source": [
    "# "
   ]
  },
  {
   "cell_type": "code",
   "execution_count": 10,
   "id": "4a86ebb7-65d9-4f02-b90f-93e5bd2fab50",
   "metadata": {},
   "outputs": [
    {
     "name": "stdout",
     "output_type": "stream",
     "text": [
      "Database 객체 : <mysql.connector.connection_cext.CMySQLConnection object at 0x00000235DE1D5550>\n"
     ]
    }
   ],
   "source": [
    "try:\n",
    "    with connector.connect(\n",
    "        host = 'localhost',\n",
    "        user = 'root',\n",
    "        password = PASSWORD,\n",
    "        database = \"book_rating\"  #이것이 기존 코드와의 차이점\n",
    "    ) as database:\n",
    "        print(f\"Database 객체 : {database}\")\n",
    "except connector.Error as e:\n",
    "    print(e)"
   ]
  },
  {
   "cell_type": "markdown",
   "id": "7eda06da-b66e-4689-87cd-210ced7c968b",
   "metadata": {},
   "source": [
    "#"
   ]
  },
  {
   "cell_type": "markdown",
   "id": "93042c04-76d2-4ae3-9076-0cc1c7ac2b55",
   "metadata": {},
   "source": [
    "# Step3. Creating Tables"
   ]
  },
  {
   "cell_type": "code",
   "execution_count": 12,
   "id": "fddedbca-49fa-45ff-99f3-76c6b3d142b4",
   "metadata": {},
   "outputs": [
    {
     "name": "stdout",
     "output_type": "stream",
     "text": [
      "Database 객체 : <mysql.connector.connection_cext.CMySQLConnection object at 0x00000235DE1CB190>\n",
      "('id', 'int', 'NO', 'PRI', None, 'auto_increment')\n",
      "('title', 'varchar(100)', 'YES', '', None, '')\n",
      "('author', 'varchar(100)', 'YES', '', None, '')\n",
      "('genre', 'varchar(100)', 'YES', '', None, '')\n",
      "('release_year', 'year', 'YES', '', None, '')\n"
     ]
    }
   ],
   "source": [
    "create_books_table = \"\"\"\n",
    "CREATE TABLE books(\n",
    "    id INT NOT NULL AUTO_INCREMENT PRIMARY KEY,\n",
    "    title VARCHAR(100),\n",
    "    author VARCHAR(100),\n",
    "    genre VARCHAR(100),\n",
    "    release_year YEAR(4)\n",
    ");\n",
    "\"\"\"\n",
    "\n",
    "try:\n",
    "    with connector.connect(\n",
    "        host = 'localhost',\n",
    "        user = 'root',\n",
    "        password = PASSWORD,\n",
    "        database = \"book_rating\"  #이것이 기존 코드와의 차이점\n",
    "    ) as database:\n",
    "        print(f\"Database 객체 : {database}\")\\\n",
    "\n",
    "        # cursor object 접근 후, 위 쿼리 실행\n",
    "        with database.cursor() as cursor:\n",
    "            cursor.execute(create_books_table)\n",
    "            database.commit()\n",
    "\n",
    "            #테이블 확인 DESCRIBE\n",
    "            describe_books = \"DESCRIBE books;\"\n",
    "            cursor.execute(describe_books)\n",
    "            book_schema = cursor.fetchall()\n",
    "            for column in book_schema:\n",
    "                print(column)\n",
    "        \n",
    "except connector.Error as e:\n",
    "    print(e)"
   ]
  },
  {
   "cell_type": "markdown",
   "id": "6361d695-e418-4403-ab1c-ac2502b4b708",
   "metadata": {},
   "source": [
    "# Step4. Data Insertion\n",
    "- 하나의 레코드를 추가할 때와 다중 레코드를 추가할 때 사용하는 메서드가 다름"
   ]
  },
  {
   "cell_type": "code",
   "execution_count": 13,
   "id": "7c21b900-e2b1-4621-9e91-f5ed221903a3",
   "metadata": {},
   "outputs": [],
   "source": [
    "# 기본형식: INSERT INTO 테이블명 (컬럼명1, 컬럼명2, 컬럼명3...) VALUES (%s, %s, ...)"
   ]
  },
  {
   "cell_type": "code",
   "execution_count": 14,
   "id": "03936c3f-cfc3-4fbf-b83d-455fead348d5",
   "metadata": {},
   "outputs": [
    {
     "name": "stdout",
     "output_type": "stream",
     "text": [
      "Database 객체 : <mysql.connector.connection_cext.CMySQLConnection object at 0x00000235DE1CA910>\n"
     ]
    }
   ],
   "source": [
    "insert_single_record = \"INSERT INTO books (id, title, author, genre, release_year)\\\n",
    "    VALUES (%s, %s, %s, %s, %s)\"\n",
    "single_record = (\n",
    "    \"1\", \"Choose Yourself! Be Happy, Make Millions, Live the Dream\", \"James Altucher\", \"self-help\", \"2013\"\n",
    "    )\n",
    "\n",
    "try:\n",
    "    with connector.connect(\n",
    "        host = 'localhost',\n",
    "        user = 'root',\n",
    "        password = PASSWORD,\n",
    "        database = \"book_rating\"  #이것이 기존 코드와의 차이점\n",
    "    ) as database:\n",
    "        print(f\"Database 객체 : {database}\")\n",
    "\n",
    "        # 커서 생성 후, 쿼리 실행\n",
    "        with database.cursor() as cursor:\n",
    "            cursor.execute(insert_single_record, single_record)\n",
    "            database.commit()\n",
    "except connector.Error as e:\n",
    "    print(e)"
   ]
  },
  {
   "cell_type": "markdown",
   "id": "71c5c996-99a0-49e4-a0e7-5bd962efc87b",
   "metadata": {},
   "source": [
    "- 다중 레코드를 추가하장."
   ]
  },
  {
   "cell_type": "code",
   "execution_count": 15,
   "id": "34f1bdb5-8a26-44a0-8f3b-7ed1a8de8a86",
   "metadata": {},
   "outputs": [
    {
     "name": "stdout",
     "output_type": "stream",
     "text": [
      "Database 객체 : <mysql.connector.connection_cext.CMySQLConnection object at 0x00000235DED55F50>\n"
     ]
    }
   ],
   "source": [
    "insert_single_record = \"INSERT INTO books (id, title, author, genre, release_year)\\\n",
    "    VALUES (%s, %s, %s, %s, %s)\"\n",
    "\n",
    "multiple_records = [\n",
    "    (\n",
    "        \"2\", \n",
    "        \"Skip the Line: The 10,000 Experiments Rule and Other Surprising Advice for Reaching Your Goals\",\n",
    "        \"James Altucher\",\n",
    "        \"self-help\",\n",
    "        \"2021\"        \n",
    "    ),\n",
    "    (\n",
    "        \"3\",\n",
    "        \"The Power of No: Because One Little Word Can Bring Health, Abundance, and Happiness\",\n",
    "        \"James Altucher\",\n",
    "        \"self-help\",\n",
    "        \"2014\"\n",
    "    ),\n",
    "    (\n",
    "        \"4\",\n",
    "        \"The 48 Laws of Power\",\n",
    "        \"Robert Greene\",\n",
    "        \"self-help\",\n",
    "        \"1998\"\n",
    "    ),\n",
    "    (\n",
    "        \"5\",\n",
    "        \"Mastery\",\n",
    "        \"Robert Greene\",\n",
    "        \"self-help\",\n",
    "        \"2012\"\n",
    "    ),\n",
    "    (\n",
    "        \"6\",\n",
    "        \"The Art of Seduction\",\n",
    "        \"Robert Greene\",\n",
    "        \"self-help\",\n",
    "        \"2001\"\n",
    "    ),\n",
    "]\n",
    "\n",
    "\n",
    "try:\n",
    "    with connector.connect(\n",
    "        host = 'localhost',\n",
    "        user = 'root',\n",
    "        password = PASSWORD,\n",
    "        database = \"book_rating\"  #이것이 기존 코드와의 차이점\n",
    "    ) as database:\n",
    "        print(f\"Database 객체 : {database}\")\n",
    "\n",
    "        # 커서 생성 후, 쿼리 실행\n",
    "        with database.cursor() as cursor:\n",
    "            #cursor.execute(insert_single_record, single_record)\n",
    "            cursor.executemany(insert_single_record, multiple_records)\n",
    "            database.commit()\n",
    "except connector.Error as e:\n",
    "    print(e)"
   ]
  },
  {
   "cell_type": "markdown",
   "id": "9aa10361-6bae-4dcc-a062-c5910cfad37d",
   "metadata": {},
   "source": [
    "# Step5. Selecting Data"
   ]
  },
  {
   "cell_type": "code",
   "execution_count": 16,
   "id": "11ee1f2a-ddb9-4445-801b-26a443f9e260",
   "metadata": {},
   "outputs": [
    {
     "name": "stdout",
     "output_type": "stream",
     "text": [
      "Database 객체 : <mysql.connector.connection_cext.CMySQLConnection object at 0x00000235DED54A10>\n",
      "('James Altucher', 2013)\n",
      "('James Altucher', 2021)\n",
      "('James Altucher', 2014)\n",
      "('Robert Greene', 1998)\n",
      "('Robert Greene', 2012)\n",
      "('Robert Greene', 2001)\n"
     ]
    }
   ],
   "source": [
    "try:\n",
    "    with connector.connect(\n",
    "        host = 'localhost',\n",
    "        user = 'root',\n",
    "        password = PASSWORD,\n",
    "        database = \"book_rating\"  #이것이 기존 코드와의 차이점\n",
    "    ) as database:\n",
    "        print(f\"Database 객체 : {database}\")\n",
    "\n",
    "        # 커서 생성 후, 쿼리 실행\n",
    "        with database.cursor() as cursor:\n",
    "            #쿼리문 작성\n",
    "            select_cols = \"SELECT author, release_year FROM books;\"\n",
    "            cursor.execute(select_cols)\n",
    "\n",
    "            #데이터 확인\n",
    "            df=cursor.fetchall()\n",
    "            for result in df:\n",
    "                print(result)\n",
    "\n",
    "except connector.Error as e:\n",
    "    print(e)"
   ]
  },
  {
   "cell_type": "markdown",
   "id": "8033567e-d766-4a0b-b766-752f3ee03900",
   "metadata": {},
   "source": [
    "# SELECT 사용자 정의 함수 만들기\n",
    "- 어떤 테이블을 조회해도 깔끔하게 데이터프레임으로 만드는 함수를 만들고 테스트를 해봅시당."
   ]
  },
  {
   "cell_type": "code",
   "execution_count": 17,
   "id": "3789f934-363b-492b-8786-511c1e834e04",
   "metadata": {},
   "outputs": [],
   "source": [
    "import pandas as pd\n",
    "\n",
    "def fetch_data_to_dataframe(query, database=None):\n",
    "    try: \n",
    "        with connector.connect(\n",
    "            host=\"localhost\",\n",
    "            user=\"root\",\n",
    "            password=PASSWORD,\n",
    "            database=database\n",
    "        ) as existing_database:\n",
    "            \n",
    "            with existing_database.cursor() as cursor:\n",
    "                cursor.execute(query)\n",
    "                \n",
    "                column_names = [i[0] for i in cursor.description]\n",
    "                \n",
    "                returned_data = cursor.fetchall()\n",
    "                \n",
    "                df = pd.DataFrame(returned_data, columns=column_names)\n",
    "                return df\n",
    "    \n",
    "    except connector.Error as e: \n",
    "        print(e)\n",
    "        return None"
   ]
  },
  {
   "cell_type": "code",
   "execution_count": null,
   "id": "773bb096-9b9f-4214-ba59-78c8059db99f",
   "metadata": {},
   "outputs": [],
   "source": [
    "#특정 행 추출\n",
    "#query_specific_cols = \"SELECT author, release_yeear FROM books\""
   ]
  },
  {
   "cell_type": "code",
   "execution_count": 18,
   "id": "7fe91819-8ab9-4253-99b2-493e68b35885",
   "metadata": {},
   "outputs": [
    {
     "data": {
      "text/html": [
       "<div>\n",
       "<style scoped>\n",
       "    .dataframe tbody tr th:only-of-type {\n",
       "        vertical-align: middle;\n",
       "    }\n",
       "\n",
       "    .dataframe tbody tr th {\n",
       "        vertical-align: top;\n",
       "    }\n",
       "\n",
       "    .dataframe thead th {\n",
       "        text-align: right;\n",
       "    }\n",
       "</style>\n",
       "<table border=\"1\" class=\"dataframe\">\n",
       "  <thead>\n",
       "    <tr style=\"text-align: right;\">\n",
       "      <th></th>\n",
       "      <th>ClothingID</th>\n",
       "      <th>Age</th>\n",
       "      <th>Title</th>\n",
       "      <th>Review Text</th>\n",
       "      <th>Rating</th>\n",
       "      <th>Recommended IND</th>\n",
       "      <th>Positive Feedback Count</th>\n",
       "      <th>Division Name</th>\n",
       "      <th>Department Name</th>\n",
       "      <th>Class Name</th>\n",
       "    </tr>\n",
       "  </thead>\n",
       "  <tbody>\n",
       "    <tr>\n",
       "      <th>0</th>\n",
       "      <td>767</td>\n",
       "      <td>33</td>\n",
       "      <td></td>\n",
       "      <td>Absolutely wonderful - silky and sexy and comf...</td>\n",
       "      <td>4</td>\n",
       "      <td>1</td>\n",
       "      <td>0</td>\n",
       "      <td>Initmates</td>\n",
       "      <td>Intimate</td>\n",
       "      <td>Intimates</td>\n",
       "    </tr>\n",
       "    <tr>\n",
       "      <th>1</th>\n",
       "      <td>1080</td>\n",
       "      <td>34</td>\n",
       "      <td></td>\n",
       "      <td>Love this dress!  it's sooo pretty.  i happene...</td>\n",
       "      <td>5</td>\n",
       "      <td>1</td>\n",
       "      <td>4</td>\n",
       "      <td>General</td>\n",
       "      <td>Dresses</td>\n",
       "      <td>Dresses</td>\n",
       "    </tr>\n",
       "    <tr>\n",
       "      <th>2</th>\n",
       "      <td>1077</td>\n",
       "      <td>60</td>\n",
       "      <td>Some major design flaws</td>\n",
       "      <td>I had such high hopes for this dress and reall...</td>\n",
       "      <td>3</td>\n",
       "      <td>0</td>\n",
       "      <td>0</td>\n",
       "      <td>General</td>\n",
       "      <td>Dresses</td>\n",
       "      <td>Dresses</td>\n",
       "    </tr>\n",
       "    <tr>\n",
       "      <th>3</th>\n",
       "      <td>1049</td>\n",
       "      <td>50</td>\n",
       "      <td>My favorite buy!</td>\n",
       "      <td>I love, love, love this jumpsuit. it's fun, fl...</td>\n",
       "      <td>5</td>\n",
       "      <td>1</td>\n",
       "      <td>0</td>\n",
       "      <td>General Petite</td>\n",
       "      <td>Bottoms</td>\n",
       "      <td>Pants</td>\n",
       "    </tr>\n",
       "    <tr>\n",
       "      <th>4</th>\n",
       "      <td>847</td>\n",
       "      <td>47</td>\n",
       "      <td>Flattering shirt</td>\n",
       "      <td>This shirt is very flattering to all due to th...</td>\n",
       "      <td>5</td>\n",
       "      <td>1</td>\n",
       "      <td>6</td>\n",
       "      <td>General</td>\n",
       "      <td>Tops</td>\n",
       "      <td>Blouses</td>\n",
       "    </tr>\n",
       "    <tr>\n",
       "      <th>...</th>\n",
       "      <td>...</td>\n",
       "      <td>...</td>\n",
       "      <td>...</td>\n",
       "      <td>...</td>\n",
       "      <td>...</td>\n",
       "      <td>...</td>\n",
       "      <td>...</td>\n",
       "      <td>...</td>\n",
       "      <td>...</td>\n",
       "      <td>...</td>\n",
       "    </tr>\n",
       "    <tr>\n",
       "      <th>20598</th>\n",
       "      <td>1104</td>\n",
       "      <td>34</td>\n",
       "      <td>Great dress for many occasions</td>\n",
       "      <td>I was very happy to snag this dress at such a ...</td>\n",
       "      <td>5</td>\n",
       "      <td>1</td>\n",
       "      <td>0</td>\n",
       "      <td>General Petite</td>\n",
       "      <td>Dresses</td>\n",
       "      <td>Dresses</td>\n",
       "    </tr>\n",
       "    <tr>\n",
       "      <th>20599</th>\n",
       "      <td>862</td>\n",
       "      <td>48</td>\n",
       "      <td>Wish it was made of cotton</td>\n",
       "      <td>It reminds me of maternity clothes. soft, stre...</td>\n",
       "      <td>3</td>\n",
       "      <td>1</td>\n",
       "      <td>0</td>\n",
       "      <td>General Petite</td>\n",
       "      <td>Tops</td>\n",
       "      <td>Knits</td>\n",
       "    </tr>\n",
       "    <tr>\n",
       "      <th>20600</th>\n",
       "      <td>1104</td>\n",
       "      <td>31</td>\n",
       "      <td>Cute, but see through</td>\n",
       "      <td>This fit well, but the top was very see throug...</td>\n",
       "      <td>3</td>\n",
       "      <td>0</td>\n",
       "      <td>1</td>\n",
       "      <td>General Petite</td>\n",
       "      <td>Dresses</td>\n",
       "      <td>Dresses</td>\n",
       "    </tr>\n",
       "    <tr>\n",
       "      <th>20601</th>\n",
       "      <td>1084</td>\n",
       "      <td>28</td>\n",
       "      <td>Very cute dress, perfect for summer parties an...</td>\n",
       "      <td>I bought this dress for a wedding i have this ...</td>\n",
       "      <td>3</td>\n",
       "      <td>1</td>\n",
       "      <td>2</td>\n",
       "      <td>General</td>\n",
       "      <td>Dresses</td>\n",
       "      <td>Dresses</td>\n",
       "    </tr>\n",
       "    <tr>\n",
       "      <th>20602</th>\n",
       "      <td>1104</td>\n",
       "      <td>52</td>\n",
       "      <td>Please make more like this one!</td>\n",
       "      <td>This dress in a lovely platinum is feminine an...</td>\n",
       "      <td>5</td>\n",
       "      <td>1</td>\n",
       "      <td>22</td>\n",
       "      <td>General Petite</td>\n",
       "      <td>Dresses</td>\n",
       "      <td>Dresses</td>\n",
       "    </tr>\n",
       "  </tbody>\n",
       "</table>\n",
       "<p>20603 rows × 10 columns</p>\n",
       "</div>"
      ],
      "text/plain": [
       "       ClothingID  Age                                              Title  \\\n",
       "0             767   33                                                      \n",
       "1            1080   34                                                      \n",
       "2            1077   60                            Some major design flaws   \n",
       "3            1049   50                                   My favorite buy!   \n",
       "4             847   47                                   Flattering shirt   \n",
       "...           ...  ...                                                ...   \n",
       "20598        1104   34                     Great dress for many occasions   \n",
       "20599         862   48                         Wish it was made of cotton   \n",
       "20600        1104   31                              Cute, but see through   \n",
       "20601        1084   28  Very cute dress, perfect for summer parties an...   \n",
       "20602        1104   52                    Please make more like this one!   \n",
       "\n",
       "                                             Review Text  Rating  \\\n",
       "0      Absolutely wonderful - silky and sexy and comf...       4   \n",
       "1      Love this dress!  it's sooo pretty.  i happene...       5   \n",
       "2      I had such high hopes for this dress and reall...       3   \n",
       "3      I love, love, love this jumpsuit. it's fun, fl...       5   \n",
       "4      This shirt is very flattering to all due to th...       5   \n",
       "...                                                  ...     ...   \n",
       "20598  I was very happy to snag this dress at such a ...       5   \n",
       "20599  It reminds me of maternity clothes. soft, stre...       3   \n",
       "20600  This fit well, but the top was very see throug...       3   \n",
       "20601  I bought this dress for a wedding i have this ...       3   \n",
       "20602  This dress in a lovely platinum is feminine an...       5   \n",
       "\n",
       "       Recommended IND  Positive Feedback Count   Division Name  \\\n",
       "0                    1                        0       Initmates   \n",
       "1                    1                        4         General   \n",
       "2                    0                        0         General   \n",
       "3                    1                        0  General Petite   \n",
       "4                    1                        6         General   \n",
       "...                ...                      ...             ...   \n",
       "20598                1                        0  General Petite   \n",
       "20599                1                        0  General Petite   \n",
       "20600                0                        1  General Petite   \n",
       "20601                1                        2         General   \n",
       "20602                1                       22  General Petite   \n",
       "\n",
       "      Department Name Class Name  \n",
       "0            Intimate  Intimates  \n",
       "1             Dresses    Dresses  \n",
       "2             Dresses    Dresses  \n",
       "3             Bottoms      Pants  \n",
       "4                Tops    Blouses  \n",
       "...               ...        ...  \n",
       "20598         Dresses    Dresses  \n",
       "20599            Tops      Knits  \n",
       "20600         Dresses    Dresses  \n",
       "20601         Dresses    Dresses  \n",
       "20602         Dresses    Dresses  \n",
       "\n",
       "[20603 rows x 10 columns]"
      ]
     },
     "execution_count": 18,
     "metadata": {},
     "output_type": "execute_result"
    }
   ],
   "source": [
    "query_all_cols = \"SELECT * FROM dataset2\"\n",
    "DATABASE = \"mydata\"\n",
    "df_all_cols = fetch_data_to_dataframe(query_all_cols, DATABASE)\n",
    "df_all_cols"
   ]
  },
  {
   "cell_type": "markdown",
   "id": "cfbb9543-22f3-49ac-ae58-22f8d6c4fd2e",
   "metadata": {},
   "source": [
    "# Step6. Update and Delete"
   ]
  },
  {
   "cell_type": "code",
   "execution_count": 21,
   "id": "bbd91041-5f03-4301-9d05-950152aaa9f5",
   "metadata": {},
   "outputs": [
    {
     "name": "stdout",
     "output_type": "stream",
     "text": [
      "Database 객체 : <mysql.connector.connection_cext.CMySQLConnection object at 0x00000235DDF78D50>\n",
      "('Big J',)\n",
      "('Robert Greene',)\n"
     ]
    }
   ],
   "source": [
    "update_query = \"\"\"\n",
    "    UPDATE\n",
    "        books\n",
    "    SET\n",
    "        author = 'Big J'\n",
    "    WHERE \n",
    "        author = 'James Altucher'\n",
    "\"\"\"\n",
    "\n",
    "try:\n",
    "    with connector.connect(\n",
    "        host = 'localhost',\n",
    "        user = 'root',\n",
    "        password = PASSWORD,\n",
    "        database = \"book_rating\"  #이것이 기존 코드와의 차이점\n",
    "    ) as database:\n",
    "        print(f\"Database 객체 : {database}\")\n",
    "\n",
    "        # 커서 생성 후, 쿼리 실행\n",
    "        with database.cursor() as cursor:\n",
    "            cursor.execute(update_query)\n",
    "            database.commit()\n",
    "\n",
    "            check_query = \"SELECT DISTINCT author FROM books\"\n",
    "            cursor.execute(check_query)\n",
    "\n",
    "            for result in cursor.fetchall():\n",
    "                print(result)\n",
    "  \n",
    "except connector.Error as e:\n",
    "    print(e)"
   ]
  },
  {
   "cell_type": "code",
   "execution_count": 24,
   "id": "50e8cbce-cbb8-4784-bdd3-bd31f53bc6dd",
   "metadata": {},
   "outputs": [
    {
     "name": "stdout",
     "output_type": "stream",
     "text": [
      "Database 객체 : <mysql.connector.connection_cext.CMySQLConnection object at 0x00000235881D3D50>\n",
      "(2013,)\n",
      "(2021,)\n",
      "(2014,)\n",
      "(2012,)\n"
     ]
    }
   ],
   "source": [
    "try:\n",
    "    with connector.connect(\n",
    "        host = 'localhost',\n",
    "        user = 'root',\n",
    "        password = PASSWORD,\n",
    "        database = \"book_rating\"  #이것이 기존 코드와의 차이점\n",
    "    ) as database:\n",
    "        print(f\"Database 객체 : {database}\")\n",
    "\n",
    "        # 커서 생성 후, 쿼리 실행\n",
    "        with database.cursor() as cursor:\n",
    "            cursor.execute(update_query)\n",
    "            database.commit()\n",
    "\n",
    "            delete_query = \"DELETE FROM books WHERE release_year <=2010\"\n",
    "            cursor.execute(delete_query)\n",
    "            database.commit()\n",
    "\n",
    "            check_query = \"SELECT DISTINCT release_year FROM books;\"\n",
    "            cursor.execute(check_query)\n",
    "            for result in cursor.fetchall():\n",
    "                print(result)\n",
    "  \n",
    "except connector.Error as e:\n",
    "    print(e)"
   ]
  },
  {
   "cell_type": "code",
   "execution_count": null,
   "id": "1d9ac2d9-b4a9-4c47-a182-4876db51fda1",
   "metadata": {},
   "outputs": [],
   "source": []
  }
 ],
 "metadata": {
  "kernelspec": {
   "display_name": "Python 3 (ipykernel)",
   "language": "python",
   "name": "python3"
  },
  "language_info": {
   "codemirror_mode": {
    "name": "ipython",
    "version": 3
   },
   "file_extension": ".py",
   "mimetype": "text/x-python",
   "name": "python",
   "nbconvert_exporter": "python",
   "pygments_lexer": "ipython3",
   "version": "3.11.7"
  }
 },
 "nbformat": 4,
 "nbformat_minor": 5
}
